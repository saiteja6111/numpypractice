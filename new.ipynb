{
 "cells": [
  {
   "cell_type": "code",
   "execution_count": null,
   "id": "f6f94719",
   "metadata": {},
   "outputs": [
    {
     "name": "stdout",
     "output_type": "stream",
     "text": [
      "[1 2 3]\n"
     ]
    }
   ],
   "source": [
    "import numpy as np\n",
    "\n",
    "a = np.array([1,2,3],dtype= int)\n",
    "print(a)"
   ]
  },
  {
   "cell_type": "code",
   "execution_count": 25,
   "id": "d26a3dc2",
   "metadata": {},
   "outputs": [
    {
     "name": "stdout",
     "output_type": "stream",
     "text": [
      "[[1.  2.3 4.5 6. ]\n",
      " [2.3 4.5 6.  3.4]]\n"
     ]
    }
   ],
   "source": [
    "b = np.array([[1,2.3,4.5,6.0],[2.3,4.5,6.0,3.4]],dtype=float)\n",
    "print(b)"
   ]
  },
  {
   "cell_type": "code",
   "execution_count": 26,
   "id": "8a64114e",
   "metadata": {},
   "outputs": [
    {
     "data": {
      "text/plain": [
       "1"
      ]
     },
     "execution_count": 26,
     "metadata": {},
     "output_type": "execute_result"
    }
   ],
   "source": [
    "b.ndim\n",
    "a.ndim"
   ]
  },
  {
   "cell_type": "code",
   "execution_count": 27,
   "id": "cdf57a8d",
   "metadata": {},
   "outputs": [
    {
     "data": {
      "text/plain": [
       "(2, 4)"
      ]
     },
     "execution_count": 27,
     "metadata": {},
     "output_type": "execute_result"
    }
   ],
   "source": [
    "b.shape"
   ]
  },
  {
   "cell_type": "code",
   "execution_count": 29,
   "id": "e35cb19b",
   "metadata": {},
   "outputs": [
    {
     "data": {
      "text/plain": [
       "dtype('float64')"
      ]
     },
     "execution_count": 29,
     "metadata": {},
     "output_type": "execute_result"
    }
   ],
   "source": [
    "b.dtype"
   ]
  },
  {
   "cell_type": "code",
   "execution_count": 33,
   "id": "e291dc3a",
   "metadata": {},
   "outputs": [
    {
     "data": {
      "text/plain": [
       "8"
      ]
     },
     "execution_count": 33,
     "metadata": {},
     "output_type": "execute_result"
    }
   ],
   "source": [
    "a.itemsize"
   ]
  },
  {
   "cell_type": "code",
   "execution_count": 36,
   "id": "bfe9aa81",
   "metadata": {},
   "outputs": [
    {
     "data": {
      "text/plain": [
       "6"
      ]
     },
     "execution_count": 36,
     "metadata": {},
     "output_type": "execute_result"
    }
   ],
   "source": [
    "c = np.array([['sai','teja','chowdary'],['mark','xmen','analaysis']],dtype=str)\n",
    "\n",
    "c.size"
   ]
  },
  {
   "cell_type": "code",
   "execution_count": 39,
   "id": "8e5b0ca0",
   "metadata": {},
   "outputs": [
    {
     "name": "stdout",
     "output_type": "stream",
     "text": [
      "216\n"
     ]
    }
   ],
   "source": [
    "totalsize = c.size * c.itemsize\n",
    "\n",
    "print(totalsize)"
   ]
  },
  {
   "cell_type": "code",
   "execution_count": 41,
   "id": "a4011f2c",
   "metadata": {},
   "outputs": [
    {
     "name": "stdout",
     "output_type": "stream",
     "text": [
      "24\n"
     ]
    }
   ],
   "source": [
    "totalsize_a= a.itemsize * a.size\n",
    "\n",
    "print(totalsize_a)"
   ]
  },
  {
   "cell_type": "code",
   "execution_count": 43,
   "id": "8f3e8dff",
   "metadata": {},
   "outputs": [
    {
     "data": {
      "text/plain": [
       "24"
      ]
     },
     "execution_count": 43,
     "metadata": {},
     "output_type": "execute_result"
    }
   ],
   "source": [
    "c.nbytes\n",
    "a.nbytes"
   ]
  },
  {
   "cell_type": "code",
   "execution_count": 44,
   "id": "b32323ae",
   "metadata": {},
   "outputs": [
    {
     "data": {
      "text/plain": [
       "64"
      ]
     },
     "execution_count": 44,
     "metadata": {},
     "output_type": "execute_result"
    }
   ],
   "source": [
    "b.nbytes"
   ]
  },
  {
   "cell_type": "code",
   "execution_count": 46,
   "id": "9f4202c5",
   "metadata": {},
   "outputs": [
    {
     "name": "stdout",
     "output_type": "stream",
     "text": [
      "[[ 1  2  3  4  5  6  7]\n",
      " [ 8  9 10 11 12 13 14]]\n"
     ]
    }
   ],
   "source": [
    "new_array = np.array([[1,2,3,4,5,6,7],[8,9,10,11,12,13,14]])\n",
    "\n",
    "print(new_array)"
   ]
  },
  {
   "cell_type": "code",
   "execution_count": 48,
   "id": "68f325e7",
   "metadata": {},
   "outputs": [
    {
     "data": {
      "text/plain": [
       "(2, 7)"
      ]
     },
     "execution_count": 48,
     "metadata": {},
     "output_type": "execute_result"
    }
   ],
   "source": [
    "new_array.shape"
   ]
  },
  {
   "cell_type": "code",
   "execution_count": 52,
   "id": "c08d083b",
   "metadata": {},
   "outputs": [
    {
     "name": "stdout",
     "output_type": "stream",
     "text": [
      "12\n"
     ]
    }
   ],
   "source": [
    "print(new_array[1,4])"
   ]
  },
  {
   "cell_type": "code",
   "execution_count": null,
   "id": "fe4486ab",
   "metadata": {},
   "outputs": [
    {
     "name": "stdout",
     "output_type": "stream",
     "text": [
      "[1 2 3 4 5 6 7]\n"
     ]
    }
   ],
   "source": [
    "print(new_array[0])#for the specific row"
   ]
  },
  {
   "cell_type": "code",
   "execution_count": null,
   "id": "f5b35c72",
   "metadata": {},
   "outputs": [
    {
     "name": "stdout",
     "output_type": "stream",
     "text": [
      "[ 6 13]\n"
     ]
    }
   ],
   "source": [
    "print(new_array[:,5])# for the specific column\n"
   ]
  },
  {
   "cell_type": "code",
   "execution_count": 75,
   "id": "8b1a729d",
   "metadata": {},
   "outputs": [
    {
     "data": {
      "text/plain": [
       "array([ 9, 11, 13])"
      ]
     },
     "execution_count": 75,
     "metadata": {},
     "output_type": "execute_result"
    }
   ],
   "source": [
    "new_array[1, 1:6:2] #slicing [array_index, startindex:endindex:stepindex]"
   ]
  },
  {
   "cell_type": "code",
   "execution_count": 76,
   "id": "c1620d2f",
   "metadata": {},
   "outputs": [
    {
     "data": {
      "text/plain": [
       "array([2.3, 6. ])"
      ]
     },
     "execution_count": 76,
     "metadata": {},
     "output_type": "execute_result"
    }
   ],
   "source": [
    "b[0, 1:4:2]"
   ]
  },
  {
   "cell_type": "code",
   "execution_count": 77,
   "id": "543fcc0a",
   "metadata": {},
   "outputs": [
    {
     "data": {
      "text/plain": [
       "array([[ 10,  20,  30,  40,  50],\n",
       "       [ 60,  70,  80,  90, 100],\n",
       "       [110, 120, 130, 140, 150]])"
      ]
     },
     "execution_count": 77,
     "metadata": {},
     "output_type": "execute_result"
    }
   ],
   "source": [
    "new_array2 = np.array([[10,20,30,40,50],[60,70,80,90,100],[110,120,130,140,150]])\n",
    "new_array2"
   ]
  },
  {
   "cell_type": "code",
   "execution_count": 81,
   "id": "3b19c7d8",
   "metadata": {},
   "outputs": [
    {
     "name": "stdout",
     "output_type": "stream",
     "text": [
      "[[ 10  20  30  40  50]\n",
      " [ 60  70  80  90 100]\n",
      " [120 120 130 140 150]]\n"
     ]
    }
   ],
   "source": [
    "new_array2[2,1] = 120\n",
    "print(new_array2)"
   ]
  },
  {
   "cell_type": "code",
   "execution_count": 82,
   "id": "9f07e384",
   "metadata": {},
   "outputs": [
    {
     "name": "stdout",
     "output_type": "stream",
     "text": [
      "[[ 10  20 230  40  50]\n",
      " [ 60  70 230  90 100]\n",
      " [120 120 230 140 150]]\n"
     ]
    }
   ],
   "source": [
    "new_array2[:, 2] = 230\n",
    "print(new_array2)"
   ]
  },
  {
   "cell_type": "code",
   "execution_count": 83,
   "id": "f08edec1",
   "metadata": {},
   "outputs": [
    {
     "name": "stdout",
     "output_type": "stream",
     "text": [
      "[[ 10  20 230   4  50]\n",
      " [ 60  70 230   9 100]\n",
      " [120 120 230  14 150]]\n"
     ]
    }
   ],
   "source": [
    "new_array2[:, 3]= [4,9,14]\n",
    "print(new_array2)"
   ]
  },
  {
   "cell_type": "code",
   "execution_count": 85,
   "id": "da86bacc",
   "metadata": {},
   "outputs": [
    {
     "name": "stdout",
     "output_type": "stream",
     "text": [
      "[[[  1   2   3   4   5]\n",
      "  [  6   7   8   9  10]\n",
      "  [ 11  12  13  14  15]]\n",
      "\n",
      " [[ 10  20  30  40  50]\n",
      "  [ 60  70  80  90 100]\n",
      "  [110 120 130 140 150]]]\n"
     ]
    }
   ],
   "source": [
    "new_array3 = np.array([[[1,2,3,4,5],[6,7,8,9,10],[11,12,13,14,15]],[[10,20,30,40,50],[60,70,80,90,100],[110,120,130,140,150]]])\n",
    "\n",
    "print(new_array3)"
   ]
  },
  {
   "cell_type": "code",
   "execution_count": 87,
   "id": "9e803e39",
   "metadata": {},
   "outputs": [
    {
     "name": "stdout",
     "output_type": "stream",
     "text": [
      "6\n"
     ]
    }
   ],
   "source": [
    "print(new_array3[0,1,0])"
   ]
  },
  {
   "cell_type": "code",
   "execution_count": 101,
   "id": "f7726416",
   "metadata": {},
   "outputs": [
    {
     "name": "stdout",
     "output_type": "stream",
     "text": [
      "[[[  1   2   3   4   5]\n",
      "  [  6   7   8   9   5]\n",
      "  [ 11  12  13  14   5]]\n",
      "\n",
      " [[ 10  20  30  40   5]\n",
      "  [ 60  70  80  90   5]\n",
      "  [110 120 130 140   5]]]\n"
     ]
    }
   ],
   "source": [
    "new_array3[:,:,4]=[[5,5,5],[5,5,5]]\n",
    "print(new_array3)"
   ]
  },
  {
   "cell_type": "code",
   "execution_count": null,
   "id": "6d64aca9",
   "metadata": {},
   "outputs": [],
   "source": []
  }
 ],
 "metadata": {
  "kernelspec": {
   "display_name": "Python 3",
   "language": "python",
   "name": "python3"
  },
  "language_info": {
   "codemirror_mode": {
    "name": "ipython",
    "version": 3
   },
   "file_extension": ".py",
   "mimetype": "text/x-python",
   "name": "python",
   "nbconvert_exporter": "python",
   "pygments_lexer": "ipython3",
   "version": "3.12.3"
  }
 },
 "nbformat": 4,
 "nbformat_minor": 5
}
